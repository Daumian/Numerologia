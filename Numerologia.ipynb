{
  "nbformat": 4,
  "nbformat_minor": 0,
  "metadata": {
    "colab": {
      "provenance": [],
      "collapsed_sections": [
        "0DKLw8hyiJSH"
      ],
      "private_outputs": true
    },
    "kernelspec": {
      "name": "python3",
      "display_name": "Python 3"
    },
    "language_info": {
      "name": "python"
    }
  },
  "cells": [
    {
      "cell_type": "markdown",
      "source": [
        "## **Numerologia**\n",
        "\n",
        "La numerología es un conjunto de creencias o tradiciones que pretende establecer una relación oculta entre los números, los seres vivos y las fuerzas físicas o espirituales."
      ],
      "metadata": {
        "id": "0DKLw8hyiJSH"
      }
    },
    {
      "cell_type": "code",
      "source": [
        "from google.colab import output"
      ],
      "metadata": {
        "id": "3PG0pFMN1xi-"
      },
      "execution_count": null,
      "outputs": []
    },
    {
      "cell_type": "code",
      "execution_count": null,
      "metadata": {
        "id": "AzVPJmP1hbuf"
      },
      "outputs": [],
      "source": [
        "class numerologia:\n",
        "  nombre:str=\"\"\n",
        "  nombreN:int=0\n",
        "\n",
        "  anioN:int=0\n",
        "  mesN:int=0\n",
        "  diaN:int=0\n",
        "  totalN:int=0\n",
        "\n",
        "  def sumatoriaNumeros(self,entrada):\n",
        "    apoyo:int=entrada\n",
        "    salida:int=0\n",
        "    Entrada:int=entrada\n",
        "    while len(str(Entrada))>=2:\n",
        "      apoyo=0\n",
        "      for e in (str(Entrada)):\n",
        "        apoyo=apoyo+(int(e))\n",
        "        # print(apoyo)\n",
        "      Entrada=apoyo  \n",
        "    salida=apoyo\n",
        "    return salida\n",
        "\n",
        "  def descripcionNumeroNacimiento(sefl,numero):\n",
        "    Numero:int=(int(numero))\n",
        "    if(Numero==1):\n",
        "      return \"Representa una personalidad independiente, auto-suficiente, orientada y vivaz. \\nEsta es una persona que tiene una vibra efervescente.\"\n",
        "    elif(Numero==2):\n",
        "      return \"Representa una personalidad paciente y tierna, que se toma su tiempo \\nala hora de tomar decisiones y que concentra su energía en avivar su confianza.\"\n",
        "    elif(Numero==3):\n",
        "      return \"Representa a una persona que es muy sociable, comunicativa y estudiosa. \\nPuede tener una relación muy cercana con sus hermanos/as y su comunidad.\"\n",
        "    elif(Numero==4):\n",
        "      return \"Representa a una persona rígida, respetuosa de la ley, estructurada, \\nque se enorgullece y encuentra tranquilidad en la adhesión a las normas sociales.\"\n",
        "    elif(Numero==5):\n",
        "      return \"Representa a una personalidad amante de la diversión, en busca de la libertad, \\nque toma riesgos pero es al mismo tiempo muy responsable cuando se trata de las actividades mundanas.\"\n",
        "    elif(Numero==6):\n",
        "      return \"Representa la necesidad de liderazgo y autoridad en todas las relaciones y \\náreas de la vida. Tiene una energía ‘yo me hago cargo’ asociada a él.\"\n",
        "    elif(Numero==7):\n",
        "      return \"Representa la espiritualidad y la intuición. Hay una tendencia en quienes poseen \\neste número de vida a relacionarse fuertemente con asociaciones, lo psíquico, la sensibilidad y la espiritualidad.\"\n",
        "    elif(Numero==8):\n",
        "      return \"Representa una afinidad con el materialismo, el poder y el éxito. \\nHay un deseo innato de dominar el mundo.\"\n",
        "    elif(Numero==9):\n",
        "      return \"Representa los finales. Nos permite ver que aferrarnos al pasado \\npuede mantenernos atascados, razón por la cual es necesario y esencial evolucionar.\"\n",
        "    else:\n",
        "      return \"error\"\n",
        "\n",
        "  def fechanacimiento(self):\n",
        "    aniosImput=str(input(\"ingrece año de nacimiento [xxxx]:\\n\"))\n",
        "    self.anioN=(int(self.sumatoriaNumeros(aniosImput)))\n",
        "    print(str(self.anioN))\n",
        "    mesImput=str(input(\"ingrece mes de nacimiento [XX]:\\n\"))\n",
        "    self.mesN=(int(self.sumatoriaNumeros(mesImput)))\n",
        "    print(str(self.mesN))\n",
        "    diaImput=str(input(\"ingrece dia de nacimiento [XX]:\\n\"))\n",
        "    self.diaN=(int(self.sumatoriaNumeros(diaImput)))\n",
        "    print(str(self.diaN))\n",
        "\n",
        "    self.totalN=self.anioN+self.mesN+self.diaN\n",
        "    self.totalN=self.sumatoriaNumeros(self.totalN)\n",
        "    output.clear()\n",
        "    print(f'tu numero de nacimiento es {self.totalN}: \\n')  \n",
        "    print(str(self.descripcionNumeroNacimiento(self.totalN)))\n",
        "\n",
        "  def prenormalize(self,palabra):\n",
        "    PalabraSinAcentos =\"\"\n",
        "    for letra in palabra:\n",
        "      PalabraSinAcentos=PalabraSinAcentos+self.normalize(letra)\n",
        "    return PalabraSinAcentos\n",
        "  \n",
        "  def normalize(self,s):\n",
        "    replacements = (\n",
        "      (\"á\", \"a\"),\n",
        "      (\"é\", \"e\"),\n",
        "      (\"í\", \"i\"),\n",
        "      (\"ó\", \"o\"),\n",
        "      (\"ú\", \"u\"),\n",
        "      (\"ñ\", \"n\"),\n",
        "      (\" \",\"\"),\n",
        "      (\"0\",\"\"),\n",
        "      (\"1\",\"\"),\n",
        "      (\"2\",\"\"),\n",
        "      (\"3\",\"\"),\n",
        "      (\"4\",\"\"),\n",
        "      (\"5\",\"\"),\n",
        "      (\"6\",\"\"),\n",
        "      (\"7\",\"\"),\n",
        "      (\"8\",\"\"),\n",
        "      (\"9\",\"\"),\n",
        "      (\"'\",\"\"),\n",
        "      (\"_\",\"\"),\n",
        "        )\n",
        "    for a, b in replacements:\n",
        "          s = s.replace(a, b).replace(a.upper(), b.upper())\n",
        "    return s.lower()\n",
        "\n",
        "  def entradaNombre(self):\n",
        "    nombreImput=str(input(\"Ingrece su Nombre:\\n\"))\n",
        "    self.nombreN=(int(self.sumatoriaLetras(nombreImput)))\n",
        "    print(str(self.nombreN))\n",
        "    print(f'el numero segun tu nombre es {self.nombreN}: \\n')  \n",
        "    print(str(self.descripcionNumeroNacimiento(self.nombreN)))\n",
        "\n",
        "\n",
        "  def sumatoriaLetras(self,entrada):\n",
        "    Nombre:str=entrada\n",
        "    self.nombre=(str(entrada)) \n",
        "    NombreLimpio=self.prenormalize(Nombre)  #limpia la palabra\n",
        "    Numeros = 0\n",
        "\n",
        "    for letra in (str(NombreLimpio)):      \n",
        "      if letra == \"a\" or letra == \"j\" or letra ==\"s\":\n",
        "        Numeros = Numeros +1\n",
        "      elif letra == \"b\" or letra ==\"k\" or letra ==\"t\":\n",
        "        Numeros =Numeros +2\n",
        "      elif letra == \"c\" or letra ==\"l\" or letra ==\"u\":\n",
        "        Numeros =Numeros +3\n",
        "      elif letra == \"d\" or letra ==\"m\" or letra ==\"v\":\n",
        "        Numeros =Numeros +4\n",
        "      elif letra == \"e\" or letra ==\"n\" or letra ==\"w\":\n",
        "        Numeros =Numeros +5\n",
        "      elif letra == \"f\" or letra ==\"o\" or letra ==\"x\":\n",
        "        Numeros =Numeros +6\n",
        "      elif letra == \"g\" or letra ==\"p\" or letra ==\"y\":\n",
        "        Numeros =Numeros +7\n",
        "      elif letra == \"h\" or letra ==\"q\" or letra ==\"z\":\n",
        "        Numeros =Numeros +8\n",
        "      elif letra == \"i\" or letra ==\"r\":\n",
        "        Numeros =Numeros +9\n",
        "      else:\n",
        "          continue\n",
        "\n",
        "    self.nombreN=(int(self.sumatoriaNumeros(Numeros)))\n",
        "    return(int(self.nombreN))\n",
        "\n",
        "\n",
        "\n",
        "\n",
        "\n",
        "inicio = numerologia()"
      ]
    },
    {
      "cell_type": "markdown",
      "source": [
        "## **Numerologia Segun Año**"
      ],
      "metadata": {
        "id": "uAz3QVMRh2Ap"
      }
    },
    {
      "cell_type": "code",
      "source": [
        "inicio.fechanacimiento()"
      ],
      "metadata": {
        "id": "TS2-0NIW0sDc"
      },
      "execution_count": null,
      "outputs": []
    },
    {
      "cell_type": "markdown",
      "source": [
        "## **Numerologia Segun Nombre**"
      ],
      "metadata": {
        "id": "uC4liT-sa43C"
      }
    },
    {
      "cell_type": "code",
      "source": [
        "inicio.entradaNombre()"
      ],
      "metadata": {
        "id": "Rygqe42Va9fQ"
      },
      "execution_count": null,
      "outputs": []
    }
  ]
}