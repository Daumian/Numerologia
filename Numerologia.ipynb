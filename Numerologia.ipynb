{
  "nbformat": 4,
  "nbformat_minor": 0,
  "metadata": {
    "colab": {
      "provenance": [],
      "collapsed_sections": [
        "0DKLw8hyiJSH"
      ]
    },
    "kernelspec": {
      "name": "python3",
      "display_name": "Python 3"
    },
    "language_info": {
      "name": "python"
    }
  },
  "cells": [
    {
      "cell_type": "markdown",
      "source": [
        "## **Numerologia**\n",
        "\n",
        "La numerología es un conjunto de creencias o tradiciones que pretende establecer una relación oculta entre los números, los seres vivos y las fuerzas físicas o espirituales."
      ],
      "metadata": {
        "id": "0DKLw8hyiJSH"
      }
    },
    {
      "cell_type": "code",
      "source": [
        "from google.colab import output"
      ],
      "metadata": {
        "id": "3PG0pFMN1xi-"
      },
      "execution_count": 70,
      "outputs": []
    },
    {
      "cell_type": "code",
      "execution_count": 71,
      "metadata": {
        "id": "AzVPJmP1hbuf"
      },
      "outputs": [],
      "source": [
        "class numerologia:\n",
        "  nombre:str=\"\"\n",
        "\n",
        "  anioN:int=0\n",
        "  mesN:int=0\n",
        "  diaN:int=0\n",
        "  totalN:int=0\n",
        "\n",
        "  def sumatoriaNumeros(self,entrada):\n",
        "    apoyo:int=entrada\n",
        "    salida:int=0\n",
        "    Entrada:int=entrada\n",
        "    while len(str(Entrada))>=2:\n",
        "      apoyo=0\n",
        "      for e in (str(Entrada)):\n",
        "        apoyo=apoyo+(int(e))\n",
        "        # print(apoyo)\n",
        "      Entrada=apoyo  \n",
        "    salida=apoyo\n",
        "    return salida\n",
        "\n",
        "  def descripcionNumeroNacimiento(sefl,numero):\n",
        "    Numero:int=(int(numero))\n",
        "    if(Numero==1):\n",
        "      return \"Representa una personalidad independiente, auto-suficiente, orientada y vivaz. \\nEsta es una persona que tiene una vibra efervescente.\"\n",
        "    elif(Numero==2):\n",
        "      return \"Representa una personalidad paciente y tierna, que se toma su tiempo \\nala hora de tomar decisiones y que concentra su energía en avivar su confianza.\"\n",
        "    elif(Numero==3):\n",
        "      return \"Representa a una persona que es muy sociable, comunicativa y estudiosa. \\nPuede tener una relación muy cercana con sus hermanos/as y su comunidad.\"\n",
        "    elif(Numero==4):\n",
        "      return \"Representa a una persona rígida, respetuosa de la ley, estructurada, \\nque se enorgullece y encuentra tranquilidad en la adhesión a las normas sociales.\"\n",
        "    elif(Numero==5):\n",
        "      return \"Representa a una personalidad amante de la diversión, en busca de la libertad, \\nque toma riesgos pero es al mismo tiempo muy responsable cuando se trata de las actividades mundanas.\"\n",
        "    elif(Numero==6):\n",
        "      return \"Representa la necesidad de liderazgo y autoridad en todas las relaciones y \\náreas de la vida. Tiene una energía ‘yo me hago cargo’ asociada a él.\"\n",
        "    elif(Numero==7):\n",
        "      return \"Representa la espiritualidad y la intuición. Hay una tendencia en quienes poseen \\neste número de vida a relacionarse fuertemente con asociaciones, lo psíquico, la sensibilidad y la espiritualidad.\"\n",
        "    elif(Numero==8):\n",
        "      return \"Representa una afinidad con el materialismo, el poder y el éxito. \\nHay un deseo innato de dominar el mundo.\"\n",
        "    elif(Numero==9):\n",
        "      return \"Representa los finales. Nos permite ver que aferrarnos al pasado \\npuede mantenernos atascados, razón por la cual es necesario y esencial evolucionar.\"\n",
        "    else:\n",
        "      return \"error\"\n",
        "\n",
        "  def fechanacimiento(self):\n",
        "    aniosImput=str(input(\"ingrece año de nacimiento [xxxx]:\\n\"))\n",
        "    self.anioN=(int(self.sumatoriaNumeros(aniosImput)))\n",
        "    print(str(self.anioN))\n",
        "    mesImput=str(input(\"ingrece mes de nacimiento [XX]:\\n\"))\n",
        "    self.mesN=(int(self.sumatoriaNumeros(mesImput)))\n",
        "    print(str(self.mesN))\n",
        "    diaImput=str(input(\"ingrece dia de nacimiento [XX]:\\n\"))\n",
        "    self.diaN=(int(self.sumatoriaNumeros(diaImput)))\n",
        "    print(str(self.diaN))\n",
        "\n",
        "    self.totalN=self.anioN+self.mesN+self.diaN\n",
        "    self.totalN=self.sumatoriaNumeros(self.totalN)\n",
        "    output.clear()\n",
        "    print(f'tu numero de nacimiento es {self.totalN}: \\n')  \n",
        "    print(str(self.descripcionNumeroNacimiento(self.totalN)))\n",
        "inicio = numerologia()"
      ]
    },
    {
      "cell_type": "markdown",
      "source": [
        "## **Numerologia Segun Año**"
      ],
      "metadata": {
        "id": "uAz3QVMRh2Ap"
      }
    },
    {
      "cell_type": "code",
      "source": [
        "inicio.fechanacimiento()"
      ],
      "metadata": {
        "colab": {
          "base_uri": "https://localhost:8080/"
        },
        "id": "TS2-0NIW0sDc",
        "outputId": "14bd0a30-23fc-4a30-8d9c-f4827b7d9fad"
      },
      "execution_count": 73,
      "outputs": [
        {
          "output_type": "stream",
          "name": "stdout",
          "text": [
            "tu numero de nacimiento es 6: \n",
            "\n",
            "Representa la necesidad de liderazgo y autoridad en todas las relaciones y \n",
            "áreas de la vida. Tiene una energía ‘yo me hago cargo’ asociada a él.\n"
          ]
        }
      ]
    }
  ]
}